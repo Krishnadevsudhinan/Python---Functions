{
 "cells": [
  {
   "cell_type": "code",
   "execution_count": 2,
   "id": "7c54e874-f17b-4db1-9cf9-7274c7f596a6",
   "metadata": {},
   "outputs": [
    {
     "name": "stdout",
     "output_type": "stream",
     "text": [
      "The length of the list is: 8\n"
     ]
    }
   ],
   "source": [
    "my_list = [6, 7, 8, 9, 10, \"John\", \"Bob\", \"Charles\"]\n",
    "list_length = len(my_list)\n",
    "\n",
    "print(\"The length of the list is:\", list_length)"
   ]
  },
  {
   "cell_type": "code",
   "execution_count": 14,
   "id": "74483087-5582-45d9-af7c-b201913bb86a",
   "metadata": {},
   "outputs": [
    {
     "name": "stdout",
     "output_type": "stream",
     "text": [
      "Hello, krishna!\n"
     ]
    }
   ],
   "source": [
    "def greet(name):\n",
    "        print(f\"Hello, {name}!\")\n",
    "greet(\"krishna\") "
   ]
  },
  {
   "cell_type": "code",
   "execution_count": 29,
   "id": "4cd561a9-3b8c-4cdc-aa2b-7665a26feb1d",
   "metadata": {},
   "outputs": [
    {
     "name": "stdout",
     "output_type": "stream",
     "text": [
      "9\n",
      "-1\n",
      "None\n"
     ]
    }
   ],
   "source": [
    "def find_maximum(numbers):\n",
    "    if len(numbers) == 0:\n",
    "        return None\n",
    "    max_value = numbers[0]\n",
    "    for num in numbers:\n",
    "        if num > max_value:\n",
    "            max_value = num\n",
    "    return max_value\n",
    "numbers = [4, 2, 9, 6, 5, 1]\n",
    "print(find_maximum(numbers)) \n",
    "\n",
    "numbers = [-1, -5, -3]\n",
    "print(find_maximum(numbers)) \n",
    "\n",
    "numbers = []\n",
    "print(find_maximum(numbers))"
   ]
  },
  {
   "cell_type": "code",
   "execution_count": 37,
   "id": "54a82a1a-d0c1-43fa-8215-233b1eabe786",
   "metadata": {},
   "outputs": [
    {
     "name": "stdout",
     "output_type": "stream",
     "text": [
      "50\n",
      "30\n",
      "Area with default width: 40\n",
      "Area with given width: 32\n"
     ]
    }
   ],
   "source": [
    "def calculate_area(length, width=5):\n",
    "    area = length * width\n",
    "    return area\n",
    "print(calculate_area(10)) \n",
    "print(calculate_area(10, 3)) \n",
    "print(\"Area with default width:\", calculate_area(8))  \n",
    "print(\"Area with given width:\", calculate_area(8, 4)) "
   ]
  },
  {
   "cell_type": "code",
   "execution_count": null,
   "id": "532ef73e-9ceb-41fc-80b5-595d5cba389b",
   "metadata": {},
   "outputs": [],
   "source": []
  }
 ],
 "metadata": {
  "kernelspec": {
   "display_name": "Python [conda env:base] *",
   "language": "python",
   "name": "conda-base-py"
  },
  "language_info": {
   "codemirror_mode": {
    "name": "ipython",
    "version": 3
   },
   "file_extension": ".py",
   "mimetype": "text/x-python",
   "name": "python",
   "nbconvert_exporter": "python",
   "pygments_lexer": "ipython3",
   "version": "3.12.7"
  }
 },
 "nbformat": 4,
 "nbformat_minor": 5
}
